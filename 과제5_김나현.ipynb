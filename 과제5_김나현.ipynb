{
  "nbformat": 4,
  "nbformat_minor": 0,
  "metadata": {
    "colab": {
      "provenance": []
    },
    "kernelspec": {
      "name": "python3",
      "display_name": "Python 3"
    },
    "language_info": {
      "name": "python"
    }
  },
  "cells": [
    {
      "cell_type": "markdown",
      "source": [
        "### **심화문제 12.2번**"
      ],
      "metadata": {
        "id": "KyIySRqOeQ6K"
      }
    },
    {
      "cell_type": "code",
      "execution_count": null,
      "metadata": {
        "colab": {
          "base_uri": "https://localhost:8080/"
        },
        "id": "AwFlTbECNvJX",
        "outputId": "67b4714a-22ce-423a-c36f-4dd5baca9739"
      },
      "outputs": [
        {
          "output_type": "stream",
          "name": "stdout",
          "text": [
            "  name  house power  weight  efficiency\n",
            "0    A          130     1.9        16.3\n",
            "1    B          250     2.6        10.2\n",
            "2    C          190     2.2        11.1\n",
            "3    D          300     2.9         7.1\n",
            "4    E          210     2.4        12.1\n",
            "5    F          220     2.3        13.2\n",
            "6    G          170     2.2        14.2\n"
          ]
        }
      ],
      "source": [
        "import pandas as pd\n",
        "\n",
        "#판다스 데이터프레임을 딕셔너리 구조로 이용하여 생성한다.\n",
        "df1 = pd.DataFrame({\n",
        "    'name' : ['A', 'B', 'C', 'D', 'E', 'F', 'G'],\n",
        "    'house power' : [130, 250, 190, 300, 210, 220, 170],\n",
        "    'weight' : [1.9, 2.6, 2.2, 2.9, 2.4, 2.3, 2.2],\n",
        "    'efficiency' : [16.3, 10.2, 11.1, 7.1, 12.1, 13.2, 14.2]\n",
        "})\n",
        "\n",
        "#결과 출력\n",
        "print(df1)"
      ]
    },
    {
      "cell_type": "code",
      "source": [
        "#df1 데이터프레임 원본 남겨놓기\n",
        "df_1 = pd.DataFrame(df1)"
      ],
      "metadata": {
        "id": "7BAvWDzwd1WC"
      },
      "execution_count": null,
      "outputs": []
    },
    {
      "cell_type": "code",
      "source": [
        "#name열을 인덱스로 변경하여 사용한다. -> set_index('name')\n",
        "#inplace=True => 원복 데이터프레임에 적용\n",
        "df1.set_index('name', inplace=True)\n",
        "\n",
        "#결과 출력\n",
        "print(df1)"
      ],
      "metadata": {
        "id": "U-Vc4E17Nyai",
        "colab": {
          "base_uri": "https://localhost:8080/"
        },
        "outputId": "4f3b6a61-7308-4cb2-f4b0-f38948627f43"
      },
      "execution_count": null,
      "outputs": [
        {
          "output_type": "stream",
          "name": "stdout",
          "text": [
            "      house power  weight  efficiency\n",
            "name                                 \n",
            "A             130     1.9        16.3\n",
            "B             250     2.6        10.2\n",
            "C             190     2.2        11.1\n",
            "D             300     2.9         7.1\n",
            "E             210     2.4        12.1\n",
            "F             220     2.3        13.2\n",
            "G             170     2.2        14.2\n"
          ]
        }
      ]
    },
    {
      "cell_type": "code",
      "source": [
        "#시작부터 3줄\n",
        "df1.head(3)"
      ],
      "metadata": {
        "colab": {
          "base_uri": "https://localhost:8080/",
          "height": 174
        },
        "id": "U8N-kzwUN0dP",
        "outputId": "a4f37fcf-fdc0-45d9-cc7d-cdeb24158685"
      },
      "execution_count": null,
      "outputs": [
        {
          "output_type": "execute_result",
          "data": {
            "text/plain": [
              "      house power  weight  efficiency\n",
              "name                                 \n",
              "A             130     1.9        16.3\n",
              "B             250     2.6        10.2\n",
              "C             190     2.2        11.1"
            ],
            "text/html": [
              "\n",
              "  <div id=\"df-7b9b1a39-2b88-4d88-9a76-35bd0ace041a\" class=\"colab-df-container\">\n",
              "    <div>\n",
              "<style scoped>\n",
              "    .dataframe tbody tr th:only-of-type {\n",
              "        vertical-align: middle;\n",
              "    }\n",
              "\n",
              "    .dataframe tbody tr th {\n",
              "        vertical-align: top;\n",
              "    }\n",
              "\n",
              "    .dataframe thead th {\n",
              "        text-align: right;\n",
              "    }\n",
              "</style>\n",
              "<table border=\"1\" class=\"dataframe\">\n",
              "  <thead>\n",
              "    <tr style=\"text-align: right;\">\n",
              "      <th></th>\n",
              "      <th>house power</th>\n",
              "      <th>weight</th>\n",
              "      <th>efficiency</th>\n",
              "    </tr>\n",
              "    <tr>\n",
              "      <th>name</th>\n",
              "      <th></th>\n",
              "      <th></th>\n",
              "      <th></th>\n",
              "    </tr>\n",
              "  </thead>\n",
              "  <tbody>\n",
              "    <tr>\n",
              "      <th>A</th>\n",
              "      <td>130</td>\n",
              "      <td>1.9</td>\n",
              "      <td>16.3</td>\n",
              "    </tr>\n",
              "    <tr>\n",
              "      <th>B</th>\n",
              "      <td>250</td>\n",
              "      <td>2.6</td>\n",
              "      <td>10.2</td>\n",
              "    </tr>\n",
              "    <tr>\n",
              "      <th>C</th>\n",
              "      <td>190</td>\n",
              "      <td>2.2</td>\n",
              "      <td>11.1</td>\n",
              "    </tr>\n",
              "  </tbody>\n",
              "</table>\n",
              "</div>\n",
              "    <div class=\"colab-df-buttons\">\n",
              "\n",
              "  <div class=\"colab-df-container\">\n",
              "    <button class=\"colab-df-convert\" onclick=\"convertToInteractive('df-7b9b1a39-2b88-4d88-9a76-35bd0ace041a')\"\n",
              "            title=\"Convert this dataframe to an interactive table.\"\n",
              "            style=\"display:none;\">\n",
              "\n",
              "  <svg xmlns=\"http://www.w3.org/2000/svg\" height=\"24px\" viewBox=\"0 -960 960 960\">\n",
              "    <path d=\"M120-120v-720h720v720H120Zm60-500h600v-160H180v160Zm220 220h160v-160H400v160Zm0 220h160v-160H400v160ZM180-400h160v-160H180v160Zm440 0h160v-160H620v160ZM180-180h160v-160H180v160Zm440 0h160v-160H620v160Z\"/>\n",
              "  </svg>\n",
              "    </button>\n",
              "\n",
              "  <style>\n",
              "    .colab-df-container {\n",
              "      display:flex;\n",
              "      gap: 12px;\n",
              "    }\n",
              "\n",
              "    .colab-df-convert {\n",
              "      background-color: #E8F0FE;\n",
              "      border: none;\n",
              "      border-radius: 50%;\n",
              "      cursor: pointer;\n",
              "      display: none;\n",
              "      fill: #1967D2;\n",
              "      height: 32px;\n",
              "      padding: 0 0 0 0;\n",
              "      width: 32px;\n",
              "    }\n",
              "\n",
              "    .colab-df-convert:hover {\n",
              "      background-color: #E2EBFA;\n",
              "      box-shadow: 0px 1px 2px rgba(60, 64, 67, 0.3), 0px 1px 3px 1px rgba(60, 64, 67, 0.15);\n",
              "      fill: #174EA6;\n",
              "    }\n",
              "\n",
              "    .colab-df-buttons div {\n",
              "      margin-bottom: 4px;\n",
              "    }\n",
              "\n",
              "    [theme=dark] .colab-df-convert {\n",
              "      background-color: #3B4455;\n",
              "      fill: #D2E3FC;\n",
              "    }\n",
              "\n",
              "    [theme=dark] .colab-df-convert:hover {\n",
              "      background-color: #434B5C;\n",
              "      box-shadow: 0px 1px 3px 1px rgba(0, 0, 0, 0.15);\n",
              "      filter: drop-shadow(0px 1px 2px rgba(0, 0, 0, 0.3));\n",
              "      fill: #FFFFFF;\n",
              "    }\n",
              "  </style>\n",
              "\n",
              "    <script>\n",
              "      const buttonEl =\n",
              "        document.querySelector('#df-7b9b1a39-2b88-4d88-9a76-35bd0ace041a button.colab-df-convert');\n",
              "      buttonEl.style.display =\n",
              "        google.colab.kernel.accessAllowed ? 'block' : 'none';\n",
              "\n",
              "      async function convertToInteractive(key) {\n",
              "        const element = document.querySelector('#df-7b9b1a39-2b88-4d88-9a76-35bd0ace041a');\n",
              "        const dataTable =\n",
              "          await google.colab.kernel.invokeFunction('convertToInteractive',\n",
              "                                                    [key], {});\n",
              "        if (!dataTable) return;\n",
              "\n",
              "        const docLinkHtml = 'Like what you see? Visit the ' +\n",
              "          '<a target=\"_blank\" href=https://colab.research.google.com/notebooks/data_table.ipynb>data table notebook</a>'\n",
              "          + ' to learn more about interactive tables.';\n",
              "        element.innerHTML = '';\n",
              "        dataTable['output_type'] = 'display_data';\n",
              "        await google.colab.output.renderOutput(dataTable, element);\n",
              "        const docLink = document.createElement('div');\n",
              "        docLink.innerHTML = docLinkHtml;\n",
              "        element.appendChild(docLink);\n",
              "      }\n",
              "    </script>\n",
              "  </div>\n",
              "\n",
              "\n",
              "<div id=\"df-0be7b955-e5b3-4d3f-9252-b1cac07fb7b2\">\n",
              "  <button class=\"colab-df-quickchart\" onclick=\"quickchart('df-0be7b955-e5b3-4d3f-9252-b1cac07fb7b2')\"\n",
              "            title=\"Suggest charts\"\n",
              "            style=\"display:none;\">\n",
              "\n",
              "<svg xmlns=\"http://www.w3.org/2000/svg\" height=\"24px\"viewBox=\"0 0 24 24\"\n",
              "     width=\"24px\">\n",
              "    <g>\n",
              "        <path d=\"M19 3H5c-1.1 0-2 .9-2 2v14c0 1.1.9 2 2 2h14c1.1 0 2-.9 2-2V5c0-1.1-.9-2-2-2zM9 17H7v-7h2v7zm4 0h-2V7h2v10zm4 0h-2v-4h2v4z\"/>\n",
              "    </g>\n",
              "</svg>\n",
              "  </button>\n",
              "\n",
              "<style>\n",
              "  .colab-df-quickchart {\n",
              "      --bg-color: #E8F0FE;\n",
              "      --fill-color: #1967D2;\n",
              "      --hover-bg-color: #E2EBFA;\n",
              "      --hover-fill-color: #174EA6;\n",
              "      --disabled-fill-color: #AAA;\n",
              "      --disabled-bg-color: #DDD;\n",
              "  }\n",
              "\n",
              "  [theme=dark] .colab-df-quickchart {\n",
              "      --bg-color: #3B4455;\n",
              "      --fill-color: #D2E3FC;\n",
              "      --hover-bg-color: #434B5C;\n",
              "      --hover-fill-color: #FFFFFF;\n",
              "      --disabled-bg-color: #3B4455;\n",
              "      --disabled-fill-color: #666;\n",
              "  }\n",
              "\n",
              "  .colab-df-quickchart {\n",
              "    background-color: var(--bg-color);\n",
              "    border: none;\n",
              "    border-radius: 50%;\n",
              "    cursor: pointer;\n",
              "    display: none;\n",
              "    fill: var(--fill-color);\n",
              "    height: 32px;\n",
              "    padding: 0;\n",
              "    width: 32px;\n",
              "  }\n",
              "\n",
              "  .colab-df-quickchart:hover {\n",
              "    background-color: var(--hover-bg-color);\n",
              "    box-shadow: 0 1px 2px rgba(60, 64, 67, 0.3), 0 1px 3px 1px rgba(60, 64, 67, 0.15);\n",
              "    fill: var(--button-hover-fill-color);\n",
              "  }\n",
              "\n",
              "  .colab-df-quickchart-complete:disabled,\n",
              "  .colab-df-quickchart-complete:disabled:hover {\n",
              "    background-color: var(--disabled-bg-color);\n",
              "    fill: var(--disabled-fill-color);\n",
              "    box-shadow: none;\n",
              "  }\n",
              "\n",
              "  .colab-df-spinner {\n",
              "    border: 2px solid var(--fill-color);\n",
              "    border-color: transparent;\n",
              "    border-bottom-color: var(--fill-color);\n",
              "    animation:\n",
              "      spin 1s steps(1) infinite;\n",
              "  }\n",
              "\n",
              "  @keyframes spin {\n",
              "    0% {\n",
              "      border-color: transparent;\n",
              "      border-bottom-color: var(--fill-color);\n",
              "      border-left-color: var(--fill-color);\n",
              "    }\n",
              "    20% {\n",
              "      border-color: transparent;\n",
              "      border-left-color: var(--fill-color);\n",
              "      border-top-color: var(--fill-color);\n",
              "    }\n",
              "    30% {\n",
              "      border-color: transparent;\n",
              "      border-left-color: var(--fill-color);\n",
              "      border-top-color: var(--fill-color);\n",
              "      border-right-color: var(--fill-color);\n",
              "    }\n",
              "    40% {\n",
              "      border-color: transparent;\n",
              "      border-right-color: var(--fill-color);\n",
              "      border-top-color: var(--fill-color);\n",
              "    }\n",
              "    60% {\n",
              "      border-color: transparent;\n",
              "      border-right-color: var(--fill-color);\n",
              "    }\n",
              "    80% {\n",
              "      border-color: transparent;\n",
              "      border-right-color: var(--fill-color);\n",
              "      border-bottom-color: var(--fill-color);\n",
              "    }\n",
              "    90% {\n",
              "      border-color: transparent;\n",
              "      border-bottom-color: var(--fill-color);\n",
              "    }\n",
              "  }\n",
              "</style>\n",
              "\n",
              "  <script>\n",
              "    async function quickchart(key) {\n",
              "      const quickchartButtonEl =\n",
              "        document.querySelector('#' + key + ' button');\n",
              "      quickchartButtonEl.disabled = true;  // To prevent multiple clicks.\n",
              "      quickchartButtonEl.classList.add('colab-df-spinner');\n",
              "      try {\n",
              "        const charts = await google.colab.kernel.invokeFunction(\n",
              "            'suggestCharts', [key], {});\n",
              "      } catch (error) {\n",
              "        console.error('Error during call to suggestCharts:', error);\n",
              "      }\n",
              "      quickchartButtonEl.classList.remove('colab-df-spinner');\n",
              "      quickchartButtonEl.classList.add('colab-df-quickchart-complete');\n",
              "    }\n",
              "    (() => {\n",
              "      let quickchartButtonEl =\n",
              "        document.querySelector('#df-0be7b955-e5b3-4d3f-9252-b1cac07fb7b2 button');\n",
              "      quickchartButtonEl.style.display =\n",
              "        google.colab.kernel.accessAllowed ? 'block' : 'none';\n",
              "    })();\n",
              "  </script>\n",
              "</div>\n",
              "\n",
              "    </div>\n",
              "  </div>\n"
            ]
          },
          "metadata": {},
          "execution_count": 49
        }
      ]
    },
    {
      "cell_type": "code",
      "source": [
        "#가장 높은 마력을 가진 차종을 찾아서 중량과 연비를 확인한다.\n",
        "max_house_power = df1[df1['house power'] == df1['house power'].max()]\n",
        "\n",
        "#결과 출력\n",
        "print(max_house_power)"
      ],
      "metadata": {
        "colab": {
          "base_uri": "https://localhost:8080/"
        },
        "id": "mmoOyzvyN3IR",
        "outputId": "0ce673ed-1af5-4336-fa2a-ef07a5cc6234"
      },
      "execution_count": null,
      "outputs": [
        {
          "output_type": "stream",
          "name": "stdout",
          "text": [
            "      house power  weight  efficiency\n",
            "name                                 \n",
            "D             300     2.9         7.1\n"
          ]
        }
      ]
    },
    {
      "cell_type": "code",
      "source": [
        "#열 추가 : hp x mile 열 추가\n",
        "#마력과 연비를 곱한다.\n",
        "df1['hp x mile'] = df1['house power'] * df1['efficiency']\n",
        "\n",
        "#결과 출력\n",
        "print(df1)"
      ],
      "metadata": {
        "id": "5g7lllKXN5hw",
        "colab": {
          "base_uri": "https://localhost:8080/"
        },
        "outputId": "48d2e95b-4465-4d8a-f0aa-b736c9a1182e"
      },
      "execution_count": null,
      "outputs": [
        {
          "output_type": "stream",
          "name": "stdout",
          "text": [
            "      house power  weight  efficiency  hp x mile\n",
            "name                                            \n",
            "A             130     1.9        16.3     2119.0\n",
            "B             250     2.6        10.2     2550.0\n",
            "C             190     2.2        11.1     2109.0\n",
            "D             300     2.9         7.1     2130.0\n",
            "E             210     2.4        12.1     2541.0\n",
            "F             220     2.3        13.2     2904.0\n",
            "G             170     2.2        14.2     2414.0\n"
          ]
        }
      ]
    },
    {
      "cell_type": "code",
      "source": [
        "#마력과 연비를 곱한 값이 가장 큰 차종을 찾는다.\n",
        "#열이 추가 되었다면, 열에서 최대값을 출력한다.\n",
        "max_hpxmile = df1[df1['hp x mile'] == df1['hp x mile'].max()]\n",
        "\n",
        "#결과 출력\n",
        "print(max_hpxmile)"
      ],
      "metadata": {
        "colab": {
          "base_uri": "https://localhost:8080/"
        },
        "id": "V8CNkm0AN6DW",
        "outputId": "97aa25a3-a711-4fe4-c65d-6621790e66d2"
      },
      "execution_count": null,
      "outputs": [
        {
          "output_type": "stream",
          "name": "stdout",
          "text": [
            "      house power  weight  efficiency  hp x mile\n",
            "name                                            \n",
            "F             220     2.3        13.2     2904.0\n"
          ]
        }
      ]
    },
    {
      "cell_type": "markdown",
      "source": [
        "### **심화문제 12.3번**"
      ],
      "metadata": {
        "id": "z0Q2PGqAekAt"
      }
    },
    {
      "cell_type": "code",
      "source": [
        "#판다스 데이터프레임을 딕셔너리 구조로 이용하여 생성한다.\n",
        "df2 = pd.DataFrame({\n",
        "    'name' : ['A', 'B', 'C', 'D',],\n",
        "    'house power' : [120, 220, 120, 200],\n",
        "    'weight' : [1.9, 2.1, 1.5, 2.9],\n",
        "    'efficiency' : [18.3, 19.2, 21.1, 17.3]\n",
        "})\n",
        "\n",
        "#결과 출력\n",
        "print(df2)"
      ],
      "metadata": {
        "id": "MmWlCb2LOA5E",
        "colab": {
          "base_uri": "https://localhost:8080/"
        },
        "outputId": "0c432e08-5521-44ce-f348-f9560c8f3082"
      },
      "execution_count": null,
      "outputs": [
        {
          "output_type": "stream",
          "name": "stdout",
          "text": [
            "  name  house power  weight  efficiency\n",
            "0    A          120     1.9        18.3\n",
            "1    B          220     2.1        19.2\n",
            "2    C          120     1.5        21.1\n",
            "3    D          200     2.9        17.3\n"
          ]
        }
      ]
    },
    {
      "cell_type": "code",
      "source": [
        " #df2 데이터프레임 원본을 남겨 놓는다.\n",
        "df_2 = pd.DataFrame(df2)"
      ],
      "metadata": {
        "id": "NTjdEeYles0B"
      },
      "execution_count": null,
      "outputs": []
    },
    {
      "cell_type": "code",
      "source": [
        "#name열을 인덱스로 변경하여 사용한다. -> set_index('name')\n",
        "#inplace=True => 원복 데이터프레임에 적용\n",
        "df2.set_index('name', inplace=True)\n",
        "\n",
        "#결과 출력\n",
        "print(df2)"
      ],
      "metadata": {
        "colab": {
          "base_uri": "https://localhost:8080/"
        },
        "id": "sJxiNypTOCwv",
        "outputId": "36c99133-c2b0-482b-de59-ef6984b1e509"
      },
      "execution_count": null,
      "outputs": [
        {
          "output_type": "stream",
          "name": "stdout",
          "text": [
            "      house power  weight  efficiency\n",
            "name                                 \n",
            "A             120     1.9        18.3\n",
            "B             220     2.1        19.2\n",
            "C             120     1.5        21.1\n",
            "D             200     2.9        17.3\n"
          ]
        }
      ]
    },
    {
      "cell_type": "code",
      "source": [
        "#남겨놓은 원본 데이터프레임으로 작업한다.\n",
        "df3 = pd.concat([df_1, df_2], ignore_index=True)\n",
        "df3.set_index('name', inplace=True)\n",
        "\n",
        "#결과 출력\n",
        "print(df3)"
      ],
      "metadata": {
        "id": "ZFdy-2lhOQEq",
        "colab": {
          "base_uri": "https://localhost:8080/"
        },
        "outputId": "c73f3165-cfd6-442f-8e46-a04b588cf28c"
      },
      "execution_count": null,
      "outputs": [
        {
          "output_type": "stream",
          "name": "stdout",
          "text": [
            "      house power  weight  efficiency\n",
            "name                                 \n",
            "A             130     1.9        16.3\n",
            "B             250     2.6        10.2\n",
            "C             190     2.2        11.1\n",
            "D             300     2.9         7.1\n",
            "E             210     2.4        12.1\n",
            "F             220     2.3        13.2\n",
            "G             170     2.2        14.2\n",
            "A             120     1.9        18.3\n",
            "B             220     2.1        19.2\n",
            "C             120     1.5        21.1\n",
            "D             200     2.9        17.3\n"
          ]
        }
      ]
    },
    {
      "cell_type": "code",
      "source": [
        "#각 차량의 제조사를 알 수 있도록 데이터프레임을 만든다.\n",
        "#첫 번째 데이터프레임에 com 열을 추가하고 행의 값은 P\n",
        "df_1['com'] = 'P'\n",
        "\n",
        "#결과 출력\n",
        "print(df_1)"
      ],
      "metadata": {
        "id": "g0Y1aicIOuvN",
        "outputId": "68c935d6-0f60-45bf-9878-4797ce605340",
        "colab": {
          "base_uri": "https://localhost:8080/"
        }
      },
      "execution_count": null,
      "outputs": [
        {
          "output_type": "stream",
          "name": "stdout",
          "text": [
            "  name  house power  weight  efficiency com\n",
            "0    A          130     1.9        16.3   P\n",
            "1    B          250     2.6        10.2   P\n",
            "2    C          190     2.2        11.1   P\n",
            "3    D          300     2.9         7.1   P\n",
            "4    E          210     2.4        12.1   P\n",
            "5    F          220     2.3        13.2   P\n",
            "6    G          170     2.2        14.2   P\n"
          ]
        }
      ]
    },
    {
      "cell_type": "code",
      "source": [
        "#두 번째 데이터프레임에 com 열을 추가하고 행의 값은 Q\n",
        "df_2['com'] = 'Q'\n",
        "\n",
        "#결과 출력\n",
        "print(df_2)"
      ],
      "metadata": {
        "id": "cT2TAGdKOxRU",
        "outputId": "b2945cf1-2fed-4fba-9256-4fe3a2b200a1",
        "colab": {
          "base_uri": "https://localhost:8080/"
        }
      },
      "execution_count": null,
      "outputs": [
        {
          "output_type": "stream",
          "name": "stdout",
          "text": [
            "  name  house power  weight  efficiency com\n",
            "0    A          120     1.9        18.3   Q\n",
            "1    B          220     2.1        19.2   Q\n",
            "2    C          120     1.5        21.1   Q\n",
            "3    D          200     2.9        17.3   Q\n"
          ]
        }
      ]
    },
    {
      "cell_type": "code",
      "source": [
        "#com 열을 추가한 두 개의 데이터프레임을 하나의 데이터프레임으로 만든다.\n",
        "merge_df = pd.concat([df_1, df_2], ignore_index=True)\n",
        "merge_df.set_index('name', inplace=True)\n",
        "\n",
        "#결과 출력\n",
        "print(merge_df)"
      ],
      "metadata": {
        "colab": {
          "base_uri": "https://localhost:8080/"
        },
        "id": "MaYbgkWIe2Ir",
        "outputId": "21ddee73-22fc-45d8-a21e-af625357c773"
      },
      "execution_count": null,
      "outputs": [
        {
          "output_type": "stream",
          "name": "stdout",
          "text": [
            "      house power  weight  efficiency com\n",
            "name                                     \n",
            "A             130     1.9        16.3   P\n",
            "B             250     2.6        10.2   P\n",
            "C             190     2.2        11.1   P\n",
            "D             300     2.9         7.1   P\n",
            "E             210     2.4        12.1   P\n",
            "F             220     2.3        13.2   P\n",
            "G             170     2.2        14.2   P\n",
            "A             120     1.9        18.3   Q\n",
            "B             220     2.1        19.2   Q\n",
            "C             120     1.5        21.1   Q\n",
            "D             200     2.9        17.3   Q\n"
          ]
        }
      ]
    },
    {
      "cell_type": "code",
      "source": [
        "#마력과 연비를 곱한 값이 가장 큰 차종을 찾는다.\n",
        "#마력과 연비를 곱한 값을 열로 추가한다.\n",
        "merge_df['hp x mile'] = merge_df['house power'] * merge_df['efficiency']  # 데이터프레임명['추가할 열 이름'] = 데이터프레임명['열 이름'] * 데이터프레임명['열 이름']\n",
        "\n",
        "#결과 출력\n",
        "print(merge_df)"
      ],
      "metadata": {
        "colab": {
          "base_uri": "https://localhost:8080/"
        },
        "id": "f_s29kUQe3sW",
        "outputId": "eb3331f3-bed6-412d-e62c-ad6716767607"
      },
      "execution_count": null,
      "outputs": [
        {
          "output_type": "stream",
          "name": "stdout",
          "text": [
            "      house power  weight  efficiency com  hp x mile\n",
            "name                                                \n",
            "A             130     1.9        16.3   P     2119.0\n",
            "B             250     2.6        10.2   P     2550.0\n",
            "C             190     2.2        11.1   P     2109.0\n",
            "D             300     2.9         7.1   P     2130.0\n",
            "E             210     2.4        12.1   P     2541.0\n",
            "F             220     2.3        13.2   P     2904.0\n",
            "G             170     2.2        14.2   P     2414.0\n",
            "A             120     1.9        18.3   Q     2196.0\n",
            "B             220     2.1        19.2   Q     4224.0\n",
            "C             120     1.5        21.1   Q     2532.0\n",
            "D             200     2.9        17.3   Q     3460.0\n"
          ]
        }
      ]
    },
    {
      "cell_type": "code",
      "source": [
        "#com을 기준으로 그룹화하여 그룹별 마력 X 연비의 평균값을 구한다.\n",
        "mean_by_com = merge_df.groupby(['com'], as_index = False)['hp x mile'].mean()\n",
        "\n",
        "#결과 출력\n",
        "mean_by_com"
      ],
      "metadata": {
        "colab": {
          "base_uri": "https://localhost:8080/",
          "height": 125
        },
        "id": "GJXtbqsce6VK",
        "outputId": "47ded85f-9b4a-4233-b1cb-b4ebfc0166e9"
      },
      "execution_count": null,
      "outputs": [
        {
          "output_type": "execute_result",
          "data": {
            "text/plain": [
              "  com    hp x mile\n",
              "0   P  2395.285714\n",
              "1   Q  3103.000000"
            ],
            "text/html": [
              "\n",
              "  <div id=\"df-9d413e36-c296-48b9-82bc-a2cb971b7115\" class=\"colab-df-container\">\n",
              "    <div>\n",
              "<style scoped>\n",
              "    .dataframe tbody tr th:only-of-type {\n",
              "        vertical-align: middle;\n",
              "    }\n",
              "\n",
              "    .dataframe tbody tr th {\n",
              "        vertical-align: top;\n",
              "    }\n",
              "\n",
              "    .dataframe thead th {\n",
              "        text-align: right;\n",
              "    }\n",
              "</style>\n",
              "<table border=\"1\" class=\"dataframe\">\n",
              "  <thead>\n",
              "    <tr style=\"text-align: right;\">\n",
              "      <th></th>\n",
              "      <th>com</th>\n",
              "      <th>hp x mile</th>\n",
              "    </tr>\n",
              "  </thead>\n",
              "  <tbody>\n",
              "    <tr>\n",
              "      <th>0</th>\n",
              "      <td>P</td>\n",
              "      <td>2395.285714</td>\n",
              "    </tr>\n",
              "    <tr>\n",
              "      <th>1</th>\n",
              "      <td>Q</td>\n",
              "      <td>3103.000000</td>\n",
              "    </tr>\n",
              "  </tbody>\n",
              "</table>\n",
              "</div>\n",
              "    <div class=\"colab-df-buttons\">\n",
              "\n",
              "  <div class=\"colab-df-container\">\n",
              "    <button class=\"colab-df-convert\" onclick=\"convertToInteractive('df-9d413e36-c296-48b9-82bc-a2cb971b7115')\"\n",
              "            title=\"Convert this dataframe to an interactive table.\"\n",
              "            style=\"display:none;\">\n",
              "\n",
              "  <svg xmlns=\"http://www.w3.org/2000/svg\" height=\"24px\" viewBox=\"0 -960 960 960\">\n",
              "    <path d=\"M120-120v-720h720v720H120Zm60-500h600v-160H180v160Zm220 220h160v-160H400v160Zm0 220h160v-160H400v160ZM180-400h160v-160H180v160Zm440 0h160v-160H620v160ZM180-180h160v-160H180v160Zm440 0h160v-160H620v160Z\"/>\n",
              "  </svg>\n",
              "    </button>\n",
              "\n",
              "  <style>\n",
              "    .colab-df-container {\n",
              "      display:flex;\n",
              "      gap: 12px;\n",
              "    }\n",
              "\n",
              "    .colab-df-convert {\n",
              "      background-color: #E8F0FE;\n",
              "      border: none;\n",
              "      border-radius: 50%;\n",
              "      cursor: pointer;\n",
              "      display: none;\n",
              "      fill: #1967D2;\n",
              "      height: 32px;\n",
              "      padding: 0 0 0 0;\n",
              "      width: 32px;\n",
              "    }\n",
              "\n",
              "    .colab-df-convert:hover {\n",
              "      background-color: #E2EBFA;\n",
              "      box-shadow: 0px 1px 2px rgba(60, 64, 67, 0.3), 0px 1px 3px 1px rgba(60, 64, 67, 0.15);\n",
              "      fill: #174EA6;\n",
              "    }\n",
              "\n",
              "    .colab-df-buttons div {\n",
              "      margin-bottom: 4px;\n",
              "    }\n",
              "\n",
              "    [theme=dark] .colab-df-convert {\n",
              "      background-color: #3B4455;\n",
              "      fill: #D2E3FC;\n",
              "    }\n",
              "\n",
              "    [theme=dark] .colab-df-convert:hover {\n",
              "      background-color: #434B5C;\n",
              "      box-shadow: 0px 1px 3px 1px rgba(0, 0, 0, 0.15);\n",
              "      filter: drop-shadow(0px 1px 2px rgba(0, 0, 0, 0.3));\n",
              "      fill: #FFFFFF;\n",
              "    }\n",
              "  </style>\n",
              "\n",
              "    <script>\n",
              "      const buttonEl =\n",
              "        document.querySelector('#df-9d413e36-c296-48b9-82bc-a2cb971b7115 button.colab-df-convert');\n",
              "      buttonEl.style.display =\n",
              "        google.colab.kernel.accessAllowed ? 'block' : 'none';\n",
              "\n",
              "      async function convertToInteractive(key) {\n",
              "        const element = document.querySelector('#df-9d413e36-c296-48b9-82bc-a2cb971b7115');\n",
              "        const dataTable =\n",
              "          await google.colab.kernel.invokeFunction('convertToInteractive',\n",
              "                                                    [key], {});\n",
              "        if (!dataTable) return;\n",
              "\n",
              "        const docLinkHtml = 'Like what you see? Visit the ' +\n",
              "          '<a target=\"_blank\" href=https://colab.research.google.com/notebooks/data_table.ipynb>data table notebook</a>'\n",
              "          + ' to learn more about interactive tables.';\n",
              "        element.innerHTML = '';\n",
              "        dataTable['output_type'] = 'display_data';\n",
              "        await google.colab.output.renderOutput(dataTable, element);\n",
              "        const docLink = document.createElement('div');\n",
              "        docLink.innerHTML = docLinkHtml;\n",
              "        element.appendChild(docLink);\n",
              "      }\n",
              "    </script>\n",
              "  </div>\n",
              "\n",
              "\n",
              "<div id=\"df-f9ae78de-ba46-4d91-9e43-12662edd54d6\">\n",
              "  <button class=\"colab-df-quickchart\" onclick=\"quickchart('df-f9ae78de-ba46-4d91-9e43-12662edd54d6')\"\n",
              "            title=\"Suggest charts\"\n",
              "            style=\"display:none;\">\n",
              "\n",
              "<svg xmlns=\"http://www.w3.org/2000/svg\" height=\"24px\"viewBox=\"0 0 24 24\"\n",
              "     width=\"24px\">\n",
              "    <g>\n",
              "        <path d=\"M19 3H5c-1.1 0-2 .9-2 2v14c0 1.1.9 2 2 2h14c1.1 0 2-.9 2-2V5c0-1.1-.9-2-2-2zM9 17H7v-7h2v7zm4 0h-2V7h2v10zm4 0h-2v-4h2v4z\"/>\n",
              "    </g>\n",
              "</svg>\n",
              "  </button>\n",
              "\n",
              "<style>\n",
              "  .colab-df-quickchart {\n",
              "      --bg-color: #E8F0FE;\n",
              "      --fill-color: #1967D2;\n",
              "      --hover-bg-color: #E2EBFA;\n",
              "      --hover-fill-color: #174EA6;\n",
              "      --disabled-fill-color: #AAA;\n",
              "      --disabled-bg-color: #DDD;\n",
              "  }\n",
              "\n",
              "  [theme=dark] .colab-df-quickchart {\n",
              "      --bg-color: #3B4455;\n",
              "      --fill-color: #D2E3FC;\n",
              "      --hover-bg-color: #434B5C;\n",
              "      --hover-fill-color: #FFFFFF;\n",
              "      --disabled-bg-color: #3B4455;\n",
              "      --disabled-fill-color: #666;\n",
              "  }\n",
              "\n",
              "  .colab-df-quickchart {\n",
              "    background-color: var(--bg-color);\n",
              "    border: none;\n",
              "    border-radius: 50%;\n",
              "    cursor: pointer;\n",
              "    display: none;\n",
              "    fill: var(--fill-color);\n",
              "    height: 32px;\n",
              "    padding: 0;\n",
              "    width: 32px;\n",
              "  }\n",
              "\n",
              "  .colab-df-quickchart:hover {\n",
              "    background-color: var(--hover-bg-color);\n",
              "    box-shadow: 0 1px 2px rgba(60, 64, 67, 0.3), 0 1px 3px 1px rgba(60, 64, 67, 0.15);\n",
              "    fill: var(--button-hover-fill-color);\n",
              "  }\n",
              "\n",
              "  .colab-df-quickchart-complete:disabled,\n",
              "  .colab-df-quickchart-complete:disabled:hover {\n",
              "    background-color: var(--disabled-bg-color);\n",
              "    fill: var(--disabled-fill-color);\n",
              "    box-shadow: none;\n",
              "  }\n",
              "\n",
              "  .colab-df-spinner {\n",
              "    border: 2px solid var(--fill-color);\n",
              "    border-color: transparent;\n",
              "    border-bottom-color: var(--fill-color);\n",
              "    animation:\n",
              "      spin 1s steps(1) infinite;\n",
              "  }\n",
              "\n",
              "  @keyframes spin {\n",
              "    0% {\n",
              "      border-color: transparent;\n",
              "      border-bottom-color: var(--fill-color);\n",
              "      border-left-color: var(--fill-color);\n",
              "    }\n",
              "    20% {\n",
              "      border-color: transparent;\n",
              "      border-left-color: var(--fill-color);\n",
              "      border-top-color: var(--fill-color);\n",
              "    }\n",
              "    30% {\n",
              "      border-color: transparent;\n",
              "      border-left-color: var(--fill-color);\n",
              "      border-top-color: var(--fill-color);\n",
              "      border-right-color: var(--fill-color);\n",
              "    }\n",
              "    40% {\n",
              "      border-color: transparent;\n",
              "      border-right-color: var(--fill-color);\n",
              "      border-top-color: var(--fill-color);\n",
              "    }\n",
              "    60% {\n",
              "      border-color: transparent;\n",
              "      border-right-color: var(--fill-color);\n",
              "    }\n",
              "    80% {\n",
              "      border-color: transparent;\n",
              "      border-right-color: var(--fill-color);\n",
              "      border-bottom-color: var(--fill-color);\n",
              "    }\n",
              "    90% {\n",
              "      border-color: transparent;\n",
              "      border-bottom-color: var(--fill-color);\n",
              "    }\n",
              "  }\n",
              "</style>\n",
              "\n",
              "  <script>\n",
              "    async function quickchart(key) {\n",
              "      const quickchartButtonEl =\n",
              "        document.querySelector('#' + key + ' button');\n",
              "      quickchartButtonEl.disabled = true;  // To prevent multiple clicks.\n",
              "      quickchartButtonEl.classList.add('colab-df-spinner');\n",
              "      try {\n",
              "        const charts = await google.colab.kernel.invokeFunction(\n",
              "            'suggestCharts', [key], {});\n",
              "      } catch (error) {\n",
              "        console.error('Error during call to suggestCharts:', error);\n",
              "      }\n",
              "      quickchartButtonEl.classList.remove('colab-df-spinner');\n",
              "      quickchartButtonEl.classList.add('colab-df-quickchart-complete');\n",
              "    }\n",
              "    (() => {\n",
              "      let quickchartButtonEl =\n",
              "        document.querySelector('#df-f9ae78de-ba46-4d91-9e43-12662edd54d6 button');\n",
              "      quickchartButtonEl.style.display =\n",
              "        google.colab.kernel.accessAllowed ? 'block' : 'none';\n",
              "    })();\n",
              "  </script>\n",
              "</div>\n",
              "\n",
              "  <div id=\"id_cd19fc0b-3986-4968-96e2-77cef4d73c46\">\n",
              "    <style>\n",
              "      .colab-df-generate {\n",
              "        background-color: #E8F0FE;\n",
              "        border: none;\n",
              "        border-radius: 50%;\n",
              "        cursor: pointer;\n",
              "        display: none;\n",
              "        fill: #1967D2;\n",
              "        height: 32px;\n",
              "        padding: 0 0 0 0;\n",
              "        width: 32px;\n",
              "      }\n",
              "\n",
              "      .colab-df-generate:hover {\n",
              "        background-color: #E2EBFA;\n",
              "        box-shadow: 0px 1px 2px rgba(60, 64, 67, 0.3), 0px 1px 3px 1px rgba(60, 64, 67, 0.15);\n",
              "        fill: #174EA6;\n",
              "      }\n",
              "\n",
              "      [theme=dark] .colab-df-generate {\n",
              "        background-color: #3B4455;\n",
              "        fill: #D2E3FC;\n",
              "      }\n",
              "\n",
              "      [theme=dark] .colab-df-generate:hover {\n",
              "        background-color: #434B5C;\n",
              "        box-shadow: 0px 1px 3px 1px rgba(0, 0, 0, 0.15);\n",
              "        filter: drop-shadow(0px 1px 2px rgba(0, 0, 0, 0.3));\n",
              "        fill: #FFFFFF;\n",
              "      }\n",
              "    </style>\n",
              "    <button class=\"colab-df-generate\" onclick=\"generateWithVariable('mean_by_com')\"\n",
              "            title=\"Generate code using this dataframe.\"\n",
              "            style=\"display:none;\">\n",
              "\n",
              "  <svg xmlns=\"http://www.w3.org/2000/svg\" height=\"24px\"viewBox=\"0 0 24 24\"\n",
              "       width=\"24px\">\n",
              "    <path d=\"M7,19H8.4L18.45,9,17,7.55,7,17.6ZM5,21V16.75L18.45,3.32a2,2,0,0,1,2.83,0l1.4,1.43a1.91,1.91,0,0,1,.58,1.4,1.91,1.91,0,0,1-.58,1.4L9.25,21ZM18.45,9,17,7.55Zm-12,3A5.31,5.31,0,0,0,4.9,8.1,5.31,5.31,0,0,0,1,6.5,5.31,5.31,0,0,0,4.9,4.9,5.31,5.31,0,0,0,6.5,1,5.31,5.31,0,0,0,8.1,4.9,5.31,5.31,0,0,0,12,6.5,5.46,5.46,0,0,0,6.5,12Z\"/>\n",
              "  </svg>\n",
              "    </button>\n",
              "    <script>\n",
              "      (() => {\n",
              "      const buttonEl =\n",
              "        document.querySelector('#id_cd19fc0b-3986-4968-96e2-77cef4d73c46 button.colab-df-generate');\n",
              "      buttonEl.style.display =\n",
              "        google.colab.kernel.accessAllowed ? 'block' : 'none';\n",
              "\n",
              "      buttonEl.onclick = () => {\n",
              "        google.colab.notebook.generateWithVariable('mean_by_com');\n",
              "      }\n",
              "      })();\n",
              "    </script>\n",
              "  </div>\n",
              "\n",
              "    </div>\n",
              "  </div>\n"
            ]
          },
          "metadata": {},
          "execution_count": 61
        }
      ]
    }
  ]
}